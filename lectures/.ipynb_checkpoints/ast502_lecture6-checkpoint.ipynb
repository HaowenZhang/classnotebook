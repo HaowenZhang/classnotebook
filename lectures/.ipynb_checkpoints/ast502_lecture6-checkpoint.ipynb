{
 "cells": [
  {
   "cell_type": "markdown",
   "metadata": {
    "slideshow": {
     "slide_type": "slide"
    }
   },
   "source": [
    "# Non-parametric Modeling\n",
    "\n",
    "### Zuyi Chen, Feb 10"
   ]
  },
  {
   "cell_type": "markdown",
   "metadata": {
    "heading_collapsed": true,
    "slideshow": {
     "slide_type": "slide"
    }
   },
   "source": [
    "## An Overview\n",
    "\n",
    "- Intro\n",
    "- Non-parametric Characterizztion of data\n",
    "    - Basic histograms (ch 4.8)\n",
    "    - More advanced usage \n",
    "        - Kernel density estimation (ch 6.1)\n",
    "        - Nearest-Neighbor Density Estimation (ch 6.2)\n",
    "- Non-parametric Model Fitting\n",
    "    - Star formation history (SFH) of galaxies\n",
    "- Selection effects correction: Non-parametric Method (ch 4.9)\n",
    "    - Luminosity Function\n",
    "        - Vmax method\n",
    "        - C$^-$ method\n",
    "    "
   ]
  },
  {
   "cell_type": "markdown",
   "metadata": {
    "slideshow": {
     "slide_type": "slide"
    }
   },
   "source": [
    "## Why Non-parametric Description\n",
    "\n",
    "- No “simple” parametric function?\n",
    "    - **''Real data rarely follow simple distributions''**\n",
    "- More information can be captured \n",
    "- Weak assumption (some smoothness criteria)"
   ]
  },
  {
   "cell_type": "markdown",
   "metadata": {
    "slideshow": {
     "slide_type": "slide"
    }
   },
   "source": [
    "## Data characterization: Histograms\n",
    "\n",
    "A piecewise constant function"
   ]
  },
  {
   "cell_type": "code",
   "execution_count": 3,
   "metadata": {
    "slideshow": {
     "slide_type": "fragment"
    }
   },
   "outputs": [
    {
     "data": {
      "image/png": "[encoded data removed]",
      "text/plain": [
       "<Figure size 432x288 with 1 Axes>"
      ]
     },
     "metadata": {
      "needs_background": "light"
     },
     "output_type": "display_data"
    }
   ],
   "source": [
    "%matplotlib inline\n",
    "import numpy as np\n",
    "from matplotlib import pyplot as plt\n",
    "x = np.random.normal(size =1000)\n",
    "counts , bins, _ = plt.hist(x, bins =50)\n",
    "\n",
    "# Alternatively, to get counts and bin boundaries\n",
    "# counts , bins = np.histogram(x, bins =50)\n",
    "# print(counts)\n",
    "# print(bins)"
   ]
  },
  {
   "cell_type": "markdown",
   "metadata": {
    "slideshow": {
     "slide_type": "slide"
    }
   },
   "source": [
    "### Histograms: How do we choose the bin width?\n",
    "\n",
    "- Two wide: destroy fine-scale features\n",
    "- Two narrow: increased counting noise per bin\n",
    "\n",
    "By default, np.histogram (as well as plt.hist) uses nbin = 10, with np.min(x) and np.max(x) as the lower boundary of first bin and the upper boundary of the last bin, respectively."
   ]
  },
  {
   "cell_type": "code",
   "execution_count": 49,
   "metadata": {
    "slideshow": {
     "slide_type": "slide"
    }
   },
   "outputs": [
    {
     "data": {
      "text/plain": [
       "Text(0.5, 0.8, 'Large\\nbin width')"
      ]
     },
     "execution_count": 49,
     "metadata": {},
     "output_type": "execute_result"
    },
    {
     "data": {
      "image/png": "[encoded data removed]",
      "text/plain": [
       "<Figure size 1008x288 with 3 Axes>"
      ]
     },
     "metadata": {
      "needs_background": "light"
     },
     "output_type": "display_data"
    }
   ],
   "source": [
    "#------------------------------------------------------------\n",
    "# Draw the random data\n",
    "np.random.seed(1)\n",
    "x = np.concatenate([np.random.normal(-0.5, 0.3, size=100),\n",
    "                    np.random.normal(-0.2, 0.3, size=70),\n",
    "                    np.random.normal(1, 0.3, size=50)])\n",
    "\n",
    "plt.figure(figsize=(14,4))\n",
    "ax1 = plt.subplot(1,3,1)\n",
    "ax1.hist(x, bins=10, density=True, histtype='step', fc='k')\n",
    "ax1.text(0.5,0.8,'Default\\nbin width',fontsize=15,transform=ax1.transAxes)\n",
    "ax1 = plt.subplot(1,3,2)\n",
    "ax1.hist(x, bins=25, density=True, histtype='step', fc='k')\n",
    "ax1.text(0.5,0.8,'Narrow\\nbin width',fontsize=15,transform=ax1.transAxes)\n",
    "ax2 = plt.subplot(1,3,3)\n",
    "ax2.hist(x, bins=5, density=True,histtype='step', fc='k')\n",
    "ax2.text(0.5,0.8,'Large\\nbin width',fontsize=15,transform=ax2.transAxes)"
   ]
  },
  {
   "cell_type": "markdown",
   "metadata": {
    "slideshow": {
     "slide_type": "slide"
    }
   },
   "source": [
    "### Histograms: Optimal bin width\n",
    "\n",
    "Bin width $\\Leftrightarrow$ some scale of the distribution, and decreases as sample size becomes larger\n",
    "\n",
    "- Scott's rule $$\\Delta_b = \\frac{3.5\\sigma}{N^{1/3}}$$\n",
    "    - Assume underlying distribution is Gaussian \n",
    "    > [On optimal and data-based histograms, David W. Scott 1979](https://academic.oup.com/biomet/article/66/3/605/232642)\n",
    "- Freedman–Diaconis rule $$\\Delta_b = \\frac{2(q_{75} - q_{25})}{N^{1/3}} = \\frac{2.7\\sigma_G}{N^{1/3}}$$\n",
    "    - Generalize to non-Gaussian"
   ]
  },
  {
   "cell_type": "markdown",
   "metadata": {
    "slideshow": {
     "slide_type": "slide"
    }
   },
   "source": [
    "np.histogram (as well as plt.hist) provides the following method to calculate the bin width:\n",
    "- ‘fd’ (Freedman Diaconis Estimator)\n",
    "    - Robust (resilient to outliers) estimator that takes into account data variability and data size.\n",
    "- ‘scott’\n",
    "    - Less robust estimator that that takes into account data variability and data size.\n",
    "- ‘sturges’\n",
    "    - R’s default method, only accounts for data size. Only optimal for gaussian data and underestimates number of bins for large non-gaussian datasets.\n",
    "   \n",
    "> https://docs.scipy.org/doc/numpy/reference/generated/numpy.histogram.html\n",
    "> https://docs.scipy.org/doc/numpy/reference/generated/numpy.histogram_bin_edges.html"
   ]
  },
  {
   "cell_type": "code",
   "execution_count": 51,
   "metadata": {
    "slideshow": {
     "slide_type": "slide"
    }
   },
   "outputs": [
    {
     "data": {
      "text/plain": [
       "Text(0.5, 0.8, 'scott')"
      ]
     },
     "execution_count": 51,
     "metadata": {},
     "output_type": "execute_result"
    },
    {
     "data": {
      "image/png": "[encoded data removed]",
      "text/plain": [
       "<Figure size 1008x288 with 3 Axes>"
      ]
     },
     "metadata": {
      "needs_background": "light"
     },
     "output_type": "display_data"
    }
   ],
   "source": [
    "#------------------------------------------------------------\n",
    "# Draw the random data\n",
    "np.random.seed(1)\n",
    "x = np.concatenate([np.random.normal(-0.5, 0.3, size=100),\n",
    "                    np.random.normal(-0.2, 0.3, size=70),\n",
    "                    np.random.normal(1, 0.3, size=50)])\n",
    "\n",
    "plt.figure(figsize=(14,4))\n",
    "ax1 = plt.subplot(1,3,1)\n",
    "ax1.hist(x, bins=10, density=True, histtype='step', fc='k')\n",
    "ax1.text(0.5,0.8,'Default',fontsize=15,transform=ax1.transAxes)\n",
    "ax1 = plt.subplot(1,3,2)\n",
    "ax1.hist(x, bins='fd', density=True, histtype='step', fc='k')\n",
    "ax1.text(0.5,0.8,'fd',fontsize=15,transform=ax1.transAxes)\n",
    "ax2 = plt.subplot(1,3,3)\n",
    "ax2.hist(x, bins='scott', density=True,histtype='step', fc='k')\n",
    "ax2.text(0.5,0.8,'scott',fontsize=15,transform=ax2.transAxes)"
   ]
  },
  {
   "cell_type": "markdown",
   "metadata": {
    "slideshow": {
     "slide_type": "slide"
    }
   },
   "source": [
    "### Histograms: errors\n",
    "\n",
    "If we bin N values into M bins, the constant in kth bin is $$f_k = \\frac{n_k}{\\Delta_b N }$$\n",
    "- Poisson error: $$\\sigma_{n_k} = \\sqrt{n_k} \\Leftrightarrow \\sigma_{f_k} = \\frac{\\sqrt{n_k}}{\\Delta_b N }$$\n",
    "    - Not asymmetrical when 16\\% ~ 84\\% uncertainty is used\n",
    "    - $n_k = 0$ does not mean $\\sigma_{f_k} = 0$"
   ]
  },
  {
   "cell_type": "markdown",
   "metadata": {
    "slideshow": {
     "slide_type": "slide"
    }
   },
   "source": [
    "## Data characterization: Kernel Density Estimation (KDE)\n",
    "\n",
    "- The exact locations of the bins can make a difference\n",
    "- To smooth the distribution\n",
    "\n",
    "Each individual point $\\Rightarrow$ A kernel centered on each data point \n",
    "- Top-hat kernel\n",
    "- Gaussian kernel\n",
    "\n",
    "<img src=\"https://upload.wikimedia.org/wikipedia/commons/thumb/4/41/Comparison_of_1D_histogram_and_KDE.png/1000px-Comparison_of_1D_histogram_and_KDE.png\" width=500 height=300 />"
   ]
  },
  {
   "cell_type": "code",
   "execution_count": 4,
   "metadata": {
    "slideshow": {
     "slide_type": "skip"
    }
   },
   "outputs": [],
   "source": [
    "# Author: Jake Vanderplas <jakevdp@cs.washington.edu>\n",
    "# https://scikit-learn.org/stable/auto_examples/neighbors/plot_kde_1d.html\n",
    "#\n",
    "import numpy as np\n",
    "import matplotlib\n",
    "import matplotlib.pyplot as plt\n",
    "from distutils.version import LooseVersion\n",
    "from scipy.stats import norm\n",
    "from sklearn.neighbors import KernelDensity\n",
    "\n",
    "# `normed` is being deprecated in favor of `density` in histograms\n",
    "if LooseVersion(matplotlib.__version__) >= '2.1':\n",
    "    density_param = {'density': True}\n",
    "else:\n",
    "    density_param = {'normed': True}"
   ]
  },
  {
   "cell_type": "code",
   "execution_count": 9,
   "metadata": {
    "slideshow": {
     "slide_type": "skip"
    }
   },
   "outputs": [],
   "source": [
    "def plot():\n",
    "    # ----------------------------------------------------------------------\n",
    "    # Plot the progression of histograms to kernels\n",
    "    np.random.seed(1)\n",
    "    N = 20\n",
    "    X = np.concatenate((np.random.normal(0, 1, int(0.3 * N)),\n",
    "                        np.random.normal(5, 1, int(0.7 * N))))[:, np.newaxis]\n",
    "    X_plot = np.linspace(-5, 10, 1000)[:, np.newaxis]\n",
    "    bins = np.linspace(-5, 10, 10)\n",
    "\n",
    "    fig, ax = plt.subplots(2, 2, sharex=True, sharey=True,figsize=(9,7))\n",
    "    fig.subplots_adjust(hspace=0.05, wspace=0.05)\n",
    "\n",
    "    # histogram 1\n",
    "    ax[0, 0].hist(X[:, 0], bins=bins, fc='#AAAAFF', **density_param)\n",
    "    ax[0, 0].text(-3.5, 0.31, \"Histogram\")\n",
    "\n",
    "    # histogram 2\n",
    "    ax[0, 1].hist(X[:, 0], bins=bins + 0.75, fc='#AAAAFF', **density_param)\n",
    "    ax[0, 1].text(-3.5, 0.31, \"Histogram, bins shifted\")\n",
    "\n",
    "    # tophat KDE\n",
    "    kde = KernelDensity(kernel='tophat', bandwidth=0.75).fit(X)\n",
    "    log_dens = kde.score_samples(X_plot)\n",
    "    ax[1, 0].fill(X_plot[:, 0], np.exp(log_dens), fc='#AAAAFF')\n",
    "    ax[1, 0].text(-3.5, 0.31, \"Tophat Kernel Density\")\n",
    "\n",
    "    # Gaussian KDE\n",
    "    kde = KernelDensity(kernel='gaussian', bandwidth=0.75).fit(X)\n",
    "    log_dens = kde.score_samples(X_plot)\n",
    "    ax[1, 1].fill(X_plot[:, 0], np.exp(log_dens), fc='#AAAAFF')\n",
    "    ax[1, 1].text(-3.5, 0.31, \"Gaussian Kernel Density\")\n",
    "\n",
    "    for axi in ax.ravel():\n",
    "        axi.plot(X[:, 0], np.full(X.shape[0], -0.01), '+k')\n",
    "        axi.set_xlim(-4, 9)\n",
    "        axi.set_ylim(-0.02, 0.34)\n",
    "\n",
    "    for axi in ax[:, 0]:\n",
    "        axi.set_ylabel('Normalized Density')\n",
    "\n",
    "    for axi in ax[1, :]:\n",
    "        axi.set_xlabel('x')"
   ]
  },
  {
   "cell_type": "code",
   "execution_count": 10,
   "metadata": {
    "slideshow": {
     "slide_type": "slide"
    }
   },
   "outputs": [
    {
     "data": {
      "image/png": "[encoded data removed]",
      "text/plain": [
       "<Figure size 648x504 with 4 Axes>"
      ]
     },
     "metadata": {
      "needs_background": "light"
     },
     "output_type": "display_data"
    }
   ],
   "source": [
    "plot()"
   ]
  },
  {
   "cell_type": "code",
   "execution_count": 11,
   "metadata": {
    "slideshow": {
     "slide_type": "skip"
    }
   },
   "outputs": [],
   "source": [
    "def plot():\n",
    "    \n",
    "    # ----------------------------------------------------------------------\n",
    "    # Plot all available kernels\n",
    "    X_plot = np.linspace(-6, 6, 1000)[:, None]\n",
    "    X_src = np.zeros((1, 1))\n",
    "    \n",
    "    fig, ax = plt.subplots(2, 3, sharex=True, sharey=True,figsize=(8,6))\n",
    "    fig.subplots_adjust(left=0.05, right=0.95, hspace=0.05, wspace=0.05)\n",
    "\n",
    "\n",
    "    def format_func(x, loc):\n",
    "        if x == 0:\n",
    "            return '0'\n",
    "        elif x == 1:\n",
    "            return 'h'\n",
    "        elif x == -1:\n",
    "            return '-h'\n",
    "        else:\n",
    "            return '%ih' % x\n",
    "\n",
    "    for i, kernel in enumerate(['gaussian', 'tophat', 'epanechnikov',\n",
    "                                'exponential', 'linear', 'cosine']):\n",
    "        axi = ax.ravel()[i]\n",
    "        log_dens = KernelDensity(kernel=kernel).fit(X_src).score_samples(X_plot)\n",
    "        axi.fill(X_plot[:, 0], np.exp(log_dens), '-k', fc='#AAAAFF')\n",
    "        axi.text(-2.6, 0.95, kernel)\n",
    "\n",
    "        axi.xaxis.set_major_formatter(plt.FuncFormatter(format_func))\n",
    "        axi.xaxis.set_major_locator(plt.MultipleLocator(1))\n",
    "        axi.yaxis.set_major_locator(plt.NullLocator())\n",
    "\n",
    "        axi.set_ylim(0, 1.05)\n",
    "        axi.set_xlim(-2.9, 2.9)\n",
    "\n",
    "    ax[0, 1].set_title('Available Kernels')"
   ]
  },
  {
   "cell_type": "code",
   "execution_count": 12,
   "metadata": {
    "slideshow": {
     "slide_type": "slide"
    }
   },
   "outputs": [
    {
     "data": {
      "image/png": "[encoded data removed]",
      "text/plain": [
       "<Figure size 576x432 with 6 Axes>"
      ]
     },
     "metadata": {
      "needs_background": "light"
     },
     "output_type": "display_data"
    }
   ],
   "source": [
    "plot()"
   ]
  },
  {
   "cell_type": "code",
   "execution_count": 13,
   "metadata": {
    "slideshow": {
     "slide_type": "skip"
    }
   },
   "outputs": [],
   "source": [
    "def plot():\n",
    "    # ----------------------------------------------------------------------\n",
    "    # Plot a 1D density example\n",
    "    N = 100\n",
    "    np.random.seed(1)\n",
    "    X = np.concatenate((np.random.normal(0, 1, int(0.3 * N)),\n",
    "                        np.random.normal(5, 1, int(0.7 * N))))[:, np.newaxis]\n",
    "\n",
    "    X_plot = np.linspace(-5, 10, 1000)[:, np.newaxis]\n",
    "\n",
    "    true_dens = (0.3 * norm(0, 1).pdf(X_plot[:, 0])\n",
    "                 + 0.7 * norm(5, 1).pdf(X_plot[:, 0]))\n",
    "\n",
    "    fig, ax = plt.subplots(figsize=(7,5))\n",
    "    ax.fill(X_plot[:, 0], true_dens, fc='black', alpha=0.2,\n",
    "            label='input distribution')\n",
    "    colors = ['navy', 'cornflowerblue', 'darkorange']\n",
    "    kernels = ['gaussian', 'tophat', 'epanechnikov']\n",
    "    lw = 2\n",
    "\n",
    "    for color, kernel in zip(colors, kernels):\n",
    "        kde = KernelDensity(kernel=kernel, bandwidth=0.5).fit(X)\n",
    "        log_dens = kde.score_samples(X_plot)\n",
    "        ax.plot(X_plot[:, 0], np.exp(log_dens), color=color, lw=lw,\n",
    "                linestyle='-', label=\"kernel = '{0}'\".format(kernel))\n",
    "\n",
    "    ax.text(6, 0.38, \"N={0} points\".format(N))\n",
    "\n",
    "    ax.legend(loc='upper left')\n",
    "    ax.plot(X[:, 0], -0.005 - 0.01 * np.random.random(X.shape[0]), '+k')\n",
    "\n",
    "    ax.set_xlim(-4, 9)\n",
    "    ax.set_ylim(-0.02, 0.4)\n",
    "    plt.show()"
   ]
  },
  {
   "cell_type": "code",
   "execution_count": 14,
   "metadata": {
    "slideshow": {
     "slide_type": "slide"
    }
   },
   "outputs": [
    {
     "data": {
      "image/png": "[encoded data removed]",
      "text/plain": [
       "<Figure size 504x360 with 1 Axes>"
      ]
     },
     "metadata": {
      "needs_background": "light"
     },
     "output_type": "display_data"
    }
   ],
   "source": [
    "plot()"
   ]
  },
  {
   "cell_type": "markdown",
   "metadata": {
    "slideshow": {
     "slide_type": "slide"
    }
   },
   "source": [
    "## Data characterization: Nearest-Neighbor Density Estimation (KNN)\n",
    "\n",
    "- Based on the distribution of nearest neighbors\n",
    "- The distance to the Kth-nearest neighbor, $d_K$\n",
    "\n",
    "$$\\hat{f}_K(x) = \\frac{C}{d_K^D}$$\n",
    "\n",
    "D: dimensionality\n",
    "\n",
    "<img src=\"http://www.astroml.org/_images/fig_great_wall_1.png\" width=600 height=300 align='center'/>\n",
    "\n"
   ]
  },
  {
   "cell_type": "markdown",
   "metadata": {
    "slideshow": {
     "slide_type": "slide"
    }
   },
   "source": [
    "## Model Fitting\n",
    "\n",
    "- Kernel Regression, to be covered in Ch 8.5\n",
    "- Piecewise Fitting, star formation history (SFH)"
   ]
  },
  {
   "cell_type": "markdown",
   "metadata": {
    "slideshow": {
     "slide_type": "slide"
    }
   },
   "source": [
    "### Non-parametric model of star formation history (SFH)\n",
    "\n",
    "SFH: The rate that new stars are born across the entire history of galaxies  \n",
    "\n",
    "Why we care?\n",
    "- How galaxies are assembled\n",
    "- Cosmic star formation history\n",
    "\n",
    "Why non-parametric?\n",
    "- The actual SFH of galaxies can be stochastic\n",
    "\n",
    "<img src=\"https://drive.google.com/uc?export=view&id=1Abz91QmUHShmzOrWR5aa_KmEvUbNWSRW\" width=600 align='center'/>\n"
   ]
  },
  {
   "cell_type": "markdown",
   "metadata": {
    "slideshow": {
     "slide_type": "slide"
    }
   },
   "source": [
    "Examples from: [Star Formation Histories of z ̃ 1 Galaxies in LEGA-C, Chauke et al. 2018](https://ui.adsabs.harvard.edu/abs/2018ApJ...861...13C/abstract)  \n",
    "\n",
    "More references: \n",
    "1. [How to Measure Galaxy Star Formation Histories. I. Parametric Models, Carnall et al. 2019](https://ui.adsabs.harvard.edu/abs/2019ApJ...873...44C/abstract)\n",
    "2. [How to Measure Galaxy Star Formation Histories. II. Nonparametric Models, Leja et al. 2019](https://ui.adsabs.harvard.edu/abs/2019ApJ...876....3L/abstract)  \n",
    "\n",
    "<img src=\"https://drive.google.com/uc?export=view&id=1oSVfyW1Hwbp7mbLrukXTHD8YY73BC8Hy\" width=400 align='center'/>\n"
   ]
  },
  {
   "cell_type": "markdown",
   "metadata": {
    "slideshow": {
     "slide_type": "slide"
    }
   },
   "source": [
    "\n",
    "<img src=\"https://drive.google.com/uc?export=view&id=1kpkAXtOl2B1YT_BXcoQ3zSy4UIR5ykJE\" width=900/>\n"
   ]
  },
  {
   "cell_type": "markdown",
   "metadata": {
    "slideshow": {
     "slide_type": "slide"
    }
   },
   "source": [
    "## Correcting Selection Effects with Non-parametric Method\n",
    "\n",
    "### Selection Function\n",
    "$$h(x) = \\frac{f(x)}{S(x)}\\ \\ \\ \\ or,\\ \\ \\ \\ f(x) = h(x)S(x)$$\n",
    "\n",
    "### Malmquist Bias\n",
    "\n",
    "A flux-limited sample\n",
    "<img src=\"https://upload.wikimedia.org/wikipedia/commons/thumb/6/6a/Bias2.png/600px-Bias2.png\" width=400 height=300 />\n"
   ]
  },
  {
   "cell_type": "markdown",
   "metadata": {
    "slideshow": {
     "slide_type": "slide"
    }
   },
   "source": [
    "### Luminosity Function\n",
    "\n",
    "> An overview for various methods: [Estimating galaxy luminosity functions, Willmer 1997](https://ui.adsabs.harvard.edu/abs/1997AJ....114..898W/abstract)\n",
    "\n",
    "#### Vmax Method\n",
    "\n",
    "The observed sources are uniformly distributed in probed volume.\n",
    "Often, $$h(x) = \\frac{f(x)}{V_{max}(x)}$$\n",
    "where $V_{max}(x) \\propto d^3$"
   ]
  },
  {
   "cell_type": "markdown",
   "metadata": {
    "slideshow": {
     "slide_type": "slide"
    }
   },
   "source": [
    "#### Lynden-Bell $C^-$ Method\n",
    "\n",
    "$x$, $y$ are uncorrelated: $$n(M,\\mu) = \\Psi(M)\\rho(\\mu)$$\n",
    "A piecewise constant model for $\\Psi(M)$ and $\\rho(\\mu)$ between data points\n",
    "\n",
    "<img align=\"right\" src=\"https://drive.google.com/uc?export=view&id=1f8gkSaLczY3lhfBwxN-afBel5WtwOAaE\" width=30% />\n",
    "\n",
    "<img align=\"right\" src=\"https://drive.google.com/uc?export=view&id=1gZAutmu71xhSnKFYs8iLMnS1CuLduL_x\" width=30% />\n",
    "\n",
    "$$\\frac{\\mathrm{d} X(M_k)}{X(M_k)} < \\frac{\\mathrm{d} \\psi(M_k)}{\\psi(M_k)}$$\n",
    "\n",
    "$$\\frac{\\mathrm{d} X(M_k)}{C(M_k)} = \\frac{\\mathrm{d} \\psi(M_k)}{\\psi(M_k)}$$\n",
    "\n",
    "\\begin{align}\n",
    "\\psi(M_k) &= \\psi(M_{k-1}) \\exp \\Big( \\int^{M_k}_{M_{k-1}} \\frac{\\mathrm{d} X}{C} \\Big) \\\\\n",
    "&= A \\exp \\Big( \\int^{M_k}_{M_{min}} \\frac{1}{C(M)} \\frac{\\mathrm{d} X}{\\mathrm{d} M} \\mathrm{d} M\\Big)\n",
    "\\end{align}"
   ]
  },
  {
   "cell_type": "markdown",
   "metadata": {
    "slideshow": {
     "slide_type": "slide"
    }
   },
   "source": [
    "#### Lynden-Bell $C^-$ Method\n",
    "\n",
    "<img align=\"right\" src=\"https://drive.google.com/uc?export=view&id=1f8gkSaLczY3lhfBwxN-afBel5WtwOAaE\" width=30% />\n",
    "\n",
    "<img align=\"right\" src=\"https://drive.google.com/uc?export=view&id=1gZAutmu71xhSnKFYs8iLMnS1CuLduL_x\" width=30% />\n",
    "\n",
    "\n",
    "$$C(M_k) = C^-(M_k)+x$$\n",
    "$$\\int^{M_k^+}_{M_k^-} \\frac{1}{C(M_k)} \\mathrm{d} X = \\int^1_0 \\frac{\\mathrm{d} x}{C^-+x} = \\ln\\{\\frac{C^-(M)+1}{C^-(M)}\\}$$\n",
    "\n",
    "\\begin{align}\n",
    "\\psi(M_{k}) &= \\psi(M_1) \\exp \\Big(\\sum_{i=2}^{k} \\frac{C^-(M_i)+1}{C^-(M_i)} \\Big) \\\\\n",
    "&= \\psi(M_{1}) \\prod_{i=2}^{k} \\frac{C^-(M_i)+1}{C^-(M_i)}\n",
    "\\end{align}\n",
    "\n",
    "See   \n",
    "[A Review of the Lynden-Bell/Choloniewski Method for Obtaining Galaxy Luminosity Functions, Jake Hebert and Jason Lisle](https://creationresearch.org/a-review-of-the-lynden-bell-choloniewski-method-for-obtaining-galaxy-luminosity-functions-part-i/)  \n",
    "[Estimating galaxy luminosity functions, Willmer 1997](https://ui.adsabs.harvard.edu/abs/1997AJ....114..898W/abstract)"
   ]
  },
  {
   "cell_type": "markdown",
   "metadata": {
    "slideshow": {
     "slide_type": "slide"
    }
   },
   "source": [
    "\n",
    "<img src=\"http://www.astroml.org/_images/fig_lyndenbell_gals_1.png\" width=500 />\n"
   ]
  },
  {
   "cell_type": "markdown",
   "metadata": {
    "slideshow": {
     "slide_type": "slide"
    }
   },
   "source": [
    "[UV Luminosity Functions at Redshifts z ̃ 4 to z ̃ 10: 10,000 Galaxies from HST Legacy Fields, Bouwens et al. 2015](https://ui.adsabs.harvard.edu/abs/2015ApJ...803...34B/abstract)\n",
    "\n",
    "<img src=\"https://drive.google.com/uc?export=view&id=1VD95DAXDDv5nHBYsYS8pEYTSWv0N0h5Z\" width=500 height=200 />"
   ]
  }
 ],
 "metadata": {
  "celltoolbar": "Slideshow",
  "kernelspec": {
   "display_name": "Python 3",
   "language": "python",
   "name": "python3"
  },
  "language_info": {
   "codemirror_mode": {
    "name": "ipython",
    "version": 3
   },
   "file_extension": ".py",
   "mimetype": "text/x-python",
   "name": "python",
   "nbconvert_exporter": "python",
   "pygments_lexer": "ipython3",
   "version": "3.7.3"
  }
 },
 "nbformat": 4,
 "nbformat_minor": 2
}
